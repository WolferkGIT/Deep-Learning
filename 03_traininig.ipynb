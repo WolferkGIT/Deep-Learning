{
  "cells": [
    {
      "cell_type": "markdown",
      "metadata": {
        "id": "view-in-github",
        "colab_type": "text"
      },
      "source": [
        "<a href=\"https://colab.research.google.com/github/WolferkGIT/Deep-Learning/blob/main/03_traininig.ipynb\" target=\"_parent\"><img src=\"https://colab.research.google.com/assets/colab-badge.svg\" alt=\"Open In Colab\"/></a>"
      ]
    },
    {
      "cell_type": "code",
      "source": [
        "from google.colab import drive\n",
        "drive.mount('/content/drive')"
      ],
      "metadata": {
        "colab": {
          "base_uri": "https://localhost:8080/"
        },
        "id": "sQW4BBQUV8k9",
        "outputId": "31de7ae1-7fd0-497f-d87f-a900d30db8a0"
      },
      "execution_count": 2,
      "outputs": [
        {
          "output_type": "stream",
          "name": "stdout",
          "text": [
            "Mounted at /content/drive\n"
          ]
        }
      ]
    },
    {
      "cell_type": "code",
      "source": [
        "import sys\n",
        "transformer_path = '/content/drive/MyDrive/Colab_Notebooks/Transformers_pt_1/transformer_lm'\n",
        "sys.path.append(transformer_path)\n",
        "%load_ext autoreload\n",
        "%autoreload 2\n",
        "import modeling_transformer\n",
        "from modeling_transformer import TransformerEncoderLayer, TransformerEncoder, TransformerLM"
      ],
      "metadata": {
        "id": "dviDgBjZW9BX"
      },
      "execution_count": 3,
      "outputs": []
    },
    {
      "cell_type": "code",
      "execution_count": 4,
      "metadata": {
        "id": "0DRqbrE-UME6"
      },
      "outputs": [],
      "source": [
        "import numpy as np\n",
        "import torch\n",
        "import torch.nn as nn\n",
        "import torch.nn.functional as F\n",
        "import torch.utils.data as torchdata"
      ]
    },
    {
      "cell_type": "markdown",
      "metadata": {
        "id": "sIVtoxR5UME_"
      },
      "source": [
        "# Training a transformer language model\n",
        "\n",
        "In this notebook, we will learn how to\n",
        "\n",
        "1. preprocess data for language modeling\n",
        "2. use `torch.utils.data` to handle batching in an efficient and standard way\n",
        "3. train a transformer language model\n",
        "\n",
        "Specifically, we will use the Tiny Shakespeare dataset, which contains the complete works of William Shakespeare, to train a language model. The goal of this notebook is to walk you through the steps of pre-processing the dataset and preparing it for training using the PyTorch DataLoader, creating a language model, training it and using it to generate text.\n",
        "\n",
        "We will train a character-based langauge model instead of word-based, because:\n",
        "\n",
        "1. It's faster to train it to the point that it can generate text\n",
        "2. We don't want to complicate the homework with BPE tokenization\n",
        "3. We work with a small dataset which might not be enough to train a word-based language model\n",
        "\n",
        "> Feel free to try training a word-based language model on a larger dataset, such as the WikiText-2 dataset, which is available in the hugginface datasets library.\n",
        "\n",
        "# Step 1: Load and Explore the Dataset\n",
        "The first step is to load the dataset and explore it. In this example, we will use the Tiny Shakespeare dataset, which contains the complete works of William Shakespeare. We can download the dataset from the following URL: https://raw.githubusercontent.com/karpathy/char-rnn/master/data/tinyshakespeare/input.txt\n",
        "\n",
        "Feel free to use `wget` to download the dataset or just download the file manually and upload it to your Colab instance.\n",
        "\n",
        "Here's how you can use `wget` to download the dataset:\n",
        "```\n",
        "!wget https://raw.githubusercontent.com/karpathy/char-rnn/master/data/tinyshakespeare/input.txt -O tiny_shakespeare.txt\n",
        "```"
      ]
    },
    {
      "cell_type": "markdown",
      "metadata": {
        "id": "8aJsTzD7UMFE"
      },
      "source": [
        "## Coding task 3.1: load the data and take a look\n",
        "\n",
        "Read the file to a variable named `raw_data` and print the first 1000 characters.\n",
        "\n",
        "### Grading criteria\n",
        "**(1 point max)**\n",
        "\n",
        "1 point if everything works"
      ]
    },
    {
      "cell_type": "code",
      "source": [
        "!wget https://raw.githubusercontent.com/karpathy/char-rnn/master/data/tinyshakespeare/input.txt -O tiny_shakespeare.txt"
      ],
      "metadata": {
        "colab": {
          "base_uri": "https://localhost:8080/"
        },
        "id": "Pjs10p0XYPsl",
        "outputId": "cb318580-76af-498d-d098-8ad9b4ca8b92"
      },
      "execution_count": 5,
      "outputs": [
        {
          "output_type": "stream",
          "name": "stdout",
          "text": [
            "--2023-08-10 16:30:54--  https://raw.githubusercontent.com/karpathy/char-rnn/master/data/tinyshakespeare/input.txt\n",
            "Resolving raw.githubusercontent.com (raw.githubusercontent.com)... 185.199.108.133, 185.199.109.133, 185.199.110.133, ...\n",
            "Connecting to raw.githubusercontent.com (raw.githubusercontent.com)|185.199.108.133|:443... connected.\n",
            "HTTP request sent, awaiting response... 200 OK\n",
            "Length: 1115394 (1.1M) [text/plain]\n",
            "Saving to: ‘tiny_shakespeare.txt’\n",
            "\n",
            "\rtiny_shakespeare.tx   0%[                    ]       0  --.-KB/s               \rtiny_shakespeare.tx 100%[===================>]   1.06M  --.-KB/s    in 0.02s   \n",
            "\n",
            "2023-08-10 16:30:55 (55.6 MB/s) - ‘tiny_shakespeare.txt’ saved [1115394/1115394]\n",
            "\n"
          ]
        }
      ]
    },
    {
      "cell_type": "code",
      "execution_count": 6,
      "metadata": {
        "colab": {
          "base_uri": "https://localhost:8080/"
        },
        "id": "SWvQcONEUMFF",
        "outputId": "9ee9d69a-c94c-4291-be7f-12024f67cda6"
      },
      "outputs": [
        {
          "output_type": "stream",
          "name": "stdout",
          "text": [
            "First Citizen:\n",
            "Before we proceed any further, hear me speak.\n",
            "\n",
            "All:\n",
            "Speak, speak.\n",
            "\n",
            "First Citizen:\n",
            "You are all resolved rather to die than to famish?\n",
            "\n",
            "All:\n",
            "Resolved. resolved.\n",
            "\n",
            "First Citizen:\n",
            "First, you know Caius Marcius is chief enemy to the people.\n",
            "\n",
            "All:\n",
            "We know't, we know't.\n",
            "\n",
            "First Citizen:\n",
            "Let us kill him, and we'll have corn at our own price.\n",
            "Is't a verdict?\n",
            "\n",
            "All:\n",
            "No more talking on't; let it be done: away, away!\n",
            "\n",
            "Second Citizen:\n",
            "One word, good citizens.\n",
            "\n",
            "First Citizen:\n",
            "We are accounted poor citizens, the patricians good.\n",
            "What authority surfeits on would relieve us: if they\n",
            "would yield us but the superfluity, while it were\n",
            "wholesome, we might guess they relieved us humanely;\n",
            "but they think we are too dear: the leanness that\n",
            "afflicts us, the object of our misery, is as an\n",
            "inventory to particularise their abundance; our\n",
            "sufferance is a gain to them Let us revenge this with\n",
            "our pikes, ere we become rakes: for the gods know I\n",
            "speak this in hunger for bread, not in thirst for revenge.\n",
            "\n",
            "Second Citizen:\n",
            "Would you proceed especially against Caius Marcius?\n",
            "\n",
            "All:\n",
            "Against him first: he's a very dog to the commonalty.\n",
            "\n",
            "Second Citizen:\n",
            "Consider you what services he has done for his country?\n",
            "\n",
            "First Citizen:\n",
            "Very well; and could be content to give him good\n",
            "report fort, but that he pays himself with being proud.\n",
            "\n",
            "Second Citizen:\n",
            "Nay, but speak not maliciously.\n",
            "\n",
            "First Citizen:\n",
            "I say unto you, what he hath done famously, he did\n",
            "it to that end: though soft-conscienced men can be\n",
            "content to say it was for his country he did it to\n",
            "please his mother and to be partly proud; which he\n",
            "is, even till the altitude of his virtue.\n",
            "\n",
            "Second Citizen:\n",
            "What he cannot help in his nature, you account a\n",
            "vice in him. You must in no way say he is covetous.\n",
            "\n",
            "First Citizen:\n",
            "If I must not, I need not be barren of accusations;\n",
            "he hath faults, with surplus, to tire in repetition.\n",
            "What shouts are these? The other side o' the city\n",
            "is risen: why stay we prating here? to the Capitol!\n",
            "\n",
            "All:\n",
            "Come, come.\n",
            "\n",
            "First C\n"
          ]
        }
      ],
      "source": [
        "with open(\"tiny_shakespeare.txt\", \"r\") as f:\n",
        "    raw_data = f.read()\n",
        "\n",
        "print(raw_data[:2000])"
      ]
    },
    {
      "cell_type": "markdown",
      "metadata": {
        "id": "XED0f1lTUMFF"
      },
      "source": [
        "## Inline question 3.1: raw text preprocessing\n",
        "**(1 point max, 1 extra point for creative ideas)**\n",
        "\n",
        "Think about how you can pre-process the data (in terms of modifying the text). Provde three ideas and explain why you think they are useful or not. Think about the size of the data, tokenization method (we will use character-level language model), your computational resources, and what kind of text you want to generate. Make this answer as extensive as possible.\n",
        "\n",
        "***Since the text inside given example has capital letters mostly for the headers, to spimplify model labor we might turn all the letters into smaller ones. It would reduce the size of vocabulary, making training a faster process.\n",
        "The goal of the model trained on such text would be an ability to generate some text that retains Shakspear style of speech.\n",
        "Since I declare the goal likewise, it is possible to remove all the Headers like \"All:\" or \"Second citizen\", since those are not useful anyhow for the training data if we just want to emulate Shakespear style of speech.\n",
        "***"
      ]
    },
    {
      "cell_type": "markdown",
      "metadata": {
        "id": "c0O311q3UMFG"
      },
      "source": [
        "# Step 2: preparing the data for the model\n",
        "\n",
        "## Coding task 3.2\n",
        "Similar to previous homeworks, where we made a vocabualry of words, we will make a vocabulary of characters.\n",
        "\n",
        "1. Make a vocabulary of all characters\n",
        "2. Make `char2idx`\n",
        "3. Make a class `Tokenizer` that stores `char2idx` and has two methods: `encode` and `decode` that encode and decode text using `char2idx` and `idx2char` dictionaries.\n",
        "   * You might find it useful to create `idx2char` dictionary inside the `__init__` method of the `Tokenizer` class.\n",
        "4. Create a `Tokenizer` object\n",
        "5. Convert the text to a list of integers using `char2idx`, assign it to a variable named `data`\n",
        "6. Print the first 100 items of `data`\n",
        "\n",
        "It's useful to have a function that converts a sequence of indices to a string. You will need it to convert the output of the model to a text when you will be generating text, but is it also very useful for **debugging** your pre-processing code.\n",
        "\n",
        "### Grading criteria\n",
        "**(2 points max)**\n",
        "\n",
        "1. 1 point for `char2idx` dictionary\n",
        "2. 1 point for `Tokenizer` class that passes the tests below"
      ]
    },
    {
      "cell_type": "code",
      "execution_count": 35,
      "metadata": {
        "id": "NxQo70ZRUMFH"
      },
      "outputs": [],
      "source": [
        "# YOUR CODE STARTS HERE (our implementation is about 4 lines using comprehensions, but it's alright if yours is longer)\n",
        "class CharToIndex:\n",
        "    def __init__(self):\n",
        "        self.char2idx = {}\n",
        "        self.idx2char = {}\n",
        "        self.num_chars = 0\n",
        "\n",
        "    def mapping(self, text):\n",
        "        # Create char-to-index and index-to-char mappings\n",
        "        for char in text:\n",
        "            if char not in self.char2idx:\n",
        "                self.char2idx[char] = self.num_chars\n",
        "                self.idx2char[self.num_chars] = char\n",
        "                self.num_chars += 1\n",
        "\n",
        "    def encode(self, text):\n",
        "        # Convert text into a sequence of integers using the char2idx mapping\n",
        "        sequence = [self.char2idx[char] for char in text]\n",
        "        return sequence\n",
        "\n",
        "    def length(self):\n",
        "        return (self.num_chars)\n",
        "\n",
        "    def decode(self, sequence):\n",
        "        # Convert a sequence of integers back to the original text using the idx2char mapping\n",
        "        text=[]\n",
        "        for idx in sequence:\n",
        "            if (idx < self.num_chars) and (idx > 0):\n",
        "                text.append(self.idx2char[idx])\n",
        "        return ''.join(text)\n",
        "# YOUR CODE ENDS HERE"
      ]
    },
    {
      "cell_type": "code",
      "execution_count": 36,
      "metadata": {
        "id": "enkSVNfsUMFI"
      },
      "outputs": [],
      "source": [
        "#_tokenizer = Tokenizer(char2idx)\n",
        "for char in raw_data:\n",
        "    char = char.lower()\n",
        "\n",
        "_tokenizer = CharToIndex()\n",
        "_tokenizer.mapping(raw_data)\n",
        "\n",
        "# YOUR CODE STARTS HERE\n",
        "\n",
        "_token_ids = _tokenizer.encode(\"hello\")\n",
        "_text = _tokenizer.decode(_token_ids)\n",
        "\n",
        "assert isinstance(_token_ids, list), \"token_ids should be a list\"\n",
        "assert isinstance(_token_ids[0], int), \"token_ids should be a list of integers\"\n",
        "assert _text == \"hello\", \"decode should work correctly and return the original text\"\n",
        "\n",
        "#del _tokenizer, _token_ids, _text"
      ]
    },
    {
      "cell_type": "code",
      "source": [
        "print(_tokenizer.encode(\"hello\"))\n",
        "print(_tokenizer.decode([1, 2, 3, 4, 5, 6, 7, 8, 9, 10, 11, 12, 13, 14]))"
      ],
      "metadata": {
        "colab": {
          "base_uri": "https://localhost:8080/"
        },
        "id": "h0T9J-4NVfUI",
        "outputId": "90a54611-84ce-4f6d-9b5f-5b965ece79f1"
      },
      "execution_count": 37,
      "outputs": [
        {
          "output_type": "stream",
          "name": "stdout",
          "text": [
            "[22, 8, 28, 28, 14]\n",
            "irst Czen:\n",
            "Bfo\n"
          ]
        }
      ]
    },
    {
      "cell_type": "code",
      "source": [
        "_tokenizer.length()"
      ],
      "metadata": {
        "colab": {
          "base_uri": "https://localhost:8080/"
        },
        "id": "8OfikyAznakY",
        "outputId": "61df005f-06d5-439a-d9e5-b36ac2e437c0"
      },
      "execution_count": 10,
      "outputs": [
        {
          "output_type": "execute_result",
          "data": {
            "text/plain": [
              "65"
            ]
          },
          "metadata": {},
          "execution_count": 10
        }
      ]
    },
    {
      "cell_type": "markdown",
      "metadata": {
        "id": "b_Sc1D8AUMFI"
      },
      "source": [
        "# Chunk the data\n",
        "\n",
        "Our data is too long to be processed in one go. We will split it into chunks of length 128. We will use the first 128 characters to predict the next character. This is a decent length for a sequence, but you can play with it if you want.\n",
        "\n",
        "## Coding task 3.3\n",
        "\n",
        "1. Create a list of sequences of length `MAX_LEN + 1`. Each sequence should be a list of integers. You'll see why we need `+ 1` in a minute.\n",
        "   * You might need to get rid of your last example if it's shorter than `MAX_LEN + 1` characters. We need all data to be of the same length to simplify batching.\n",
        "   * In the next homework we will implement batchihg for sequences of different lengths and you are probably not going to enjoy it, it's a bit tricky.\n",
        "2. Split the data into training and validation sets. Use 90% of the data for training and 10% for validation.\n",
        "3. Make x and y pairs for your data. Remember that we want to use the first 128 characters to predict the next character. So, `x` should be the first 128 characters and `y` should be a shifted version of the same sequence, so it's the last 128 characters. Name them `train_x` and `train_y` for the training set and `val_x` and `val_y` for the validation set.\n",
        "4. Print an example from the training set. You should see that the first 128 characters are the same as the first 128 characters of the original text, and the last 128 characters are the same as the last 128 characters of the original text, shifted by one character.\n",
        "\n",
        "You can just stride using `data[i:i+128]` for each `i` in `range(0, len(data), 128)`, no need to do anything fancy. You can figure out more complex ways to do it, just do this after all the homework is done. You receive no extra points if your homework is not finished.\n",
        "\n",
        "### Grading criteria\n",
        "\n",
        "1. 1 point for `data_chunks` list and train-test split\n",
        "2. 1 point for dataset and dataloader objects\n",
        "3. Extra point for a more interesting way to chunk the text\n",
        "4. Extra point for implementing a custom dataset class"
      ]
    },
    {
      "cell_type": "code",
      "source": [
        "len(raw_data)"
      ],
      "metadata": {
        "colab": {
          "base_uri": "https://localhost:8080/"
        },
        "id": "mefvcsQP68C4",
        "outputId": "85c7dd4e-540b-4843-92ab-1c71ca16e93e"
      },
      "execution_count": 11,
      "outputs": [
        {
          "output_type": "execute_result",
          "data": {
            "text/plain": [
              "1115394"
            ]
          },
          "metadata": {},
          "execution_count": 11
        }
      ]
    },
    {
      "cell_type": "code",
      "source": [
        "def slice_to_list(input, size):\n",
        "    return [input[i:i + size] for i in range(0, len(input), size)]\n",
        "\n",
        "test_text = \"Kazoo baboo la longa kikongo Metal Gear Solid V is the best game ever\"\n",
        "\n",
        "chunk_list = slice_to_list(test_text, 3)\n",
        "print(chunk_list)"
      ],
      "metadata": {
        "colab": {
          "base_uri": "https://localhost:8080/"
        },
        "id": "Fsgoh3t97roZ",
        "outputId": "ad9a502f-a646-4255-ee00-5104d62522c6"
      },
      "execution_count": 12,
      "outputs": [
        {
          "output_type": "stream",
          "name": "stdout",
          "text": [
            "['Kaz', 'oo ', 'bab', 'oo ', 'la ', 'lon', 'ga ', 'kik', 'ong', 'o M', 'eta', 'l G', 'ear', ' So', 'lid', ' V ', 'is ', 'the', ' be', 'st ', 'gam', 'e e', 'ver']\n"
          ]
        }
      ]
    },
    {
      "cell_type": "code",
      "execution_count": 13,
      "metadata": {
        "id": "9fBc2DSsUMFJ",
        "colab": {
          "base_uri": "https://localhost:8080/"
        },
        "outputId": "c2345634-422e-4a91-ee2c-b4439385210f"
      },
      "outputs": [
        {
          "output_type": "stream",
          "name": "stdout",
          "text": [
            "die than to famish?\n",
            "\n",
            "All:\n",
            "Resolved. resolved.\n",
            "\n",
            "First Citizen:\n",
            "First, you know Caius Marcius is chief enemy to the people.\n",
            "\n",
            "All:\n",
            "\n",
            "We know't, we know't.\n",
            "\n",
            "First Citizen:\n",
            "Let us kill him, and we'll have corn at our own price.\n",
            "Is't a verdict?\n",
            "\n",
            "All:\n",
            "No more talki\n",
            "128\n"
          ]
        }
      ],
      "source": [
        "MAX_LEN = 128\n",
        "# YOUR CODE STARTS HERE (our implementation is about 13 lines, but it's alright if yours is different)\n",
        "chunk_list = slice_to_list(raw_data, MAX_LEN)\n",
        "raw_data_sfift = raw_data[1:]\n",
        "\n",
        "print(chunk_list[1])\n",
        "print(chunk_list[2])\n",
        "\n",
        "if len(chunk_list[-1])!= MAX_LEN:\n",
        "    chunk_list.pop()\n",
        "print(len(chunk_list[-1]))\n",
        "# YOUR CODE ENDS HERE"
      ]
    },
    {
      "cell_type": "markdown",
      "metadata": {
        "id": "ybQYUAqeUMFJ"
      },
      "source": [
        "# Using `torch.utils.data`\n",
        "\n",
        "We will use `torch.utils.data.Dataset` to create a dataset object that will be used to create a `torch.utils.data.DataLoader` object. The `DataLoader` object will be used to create batches of data.\n",
        "\n",
        "## Coding task 3.4\n",
        "\n",
        "Your task is to learn how to use `torch.utils.data.Dataset` and `torch.utils.data.DataLoader` classes and to apply them to our data.\n",
        "\n",
        "1. Convert your data to tensors of type long\n",
        "1. Create a `torch.utils.data.Dataset` object for each train and test data. Name them `train_dataset` and `val_dataset`. You can use the `TensorDataset` class for this or make a new class that inherits from `torch.utils.data.Dataset` and implements the `__getitem__` and `__len__` methods.\n",
        "2. Try indexing `train_dataset` to get a single example and decode it using `tokenizer.decode()`. What does it contain? Use tokenizer to decode one example (both x and y). Does it look like a valid text? Are the targets shifted by one character?\n",
        "1. Use the `DataLoader` class to create `train_loader` and `val_loader` objects. It will shuffle and batch data for you. You can use the following parameters:\n",
        "   * `dataset` - the dataset object you created in the previous step\n",
        "   * `batch_size` - your choice!\n",
        "   * `shuffle` - True for training data, False for validation data\n",
        "   * `num_workers` - 8, number of CPU cores to use for batch preparation\n",
        "3. Try iterating over `train_loader` and print the shapes of the batches.\n",
        "    * You can use `break` to stop the loop after the first iteration.\n",
        "4. Try decoding a batch that you get from `train_loader`. Does it look like a valid text? Are the targets shifted by one character?\n",
        "\n",
        "Learn more about data feeding in pytorch here: https://pytorch.org/tutorials/beginner/basics/data_tutorial.html\n",
        "\n",
        "\n",
        "**NOTE:**\n",
        "1. `TensorDataset` returns a tuple of tensors. Usually these are `(x, y)` pairs, where `x` is the input and `y` is the target. In our case, `x` is the input sequence and `y` is the same sequence shifted by one character. This is how we will train our language model. We will use the first 128 characters to predict the next character.\n",
        "1. You need to convert your pytorch tensor into a python list in order to use `tokenizer.decode()`. Feel free to do it in-place or modify the `decode` method of the `Tokenizer` class to accept **BOTH** python lists and pytorch tensors. You can check what datatype you have using `isinstance()` function.\n",
        "2. Printing might look a bit weird because you have a lot of `\\n` in the data. It is alright, just be careful when you are verifying that your data is correct.\n",
        "\n",
        "### Grading criteria\n",
        "\n",
        "* 1 point for `train_dataset` and `val_dataset` objects\n",
        "* 1 point if each test is written and passed:\n",
        "  * train dataset element is correctly processed and x and y corespond to the correct characters\n",
        "  * printed the shapes of the items that you get from `train_loader`\n",
        "  * decoded a batch from `train_loader` and printed the decoded text and it is correct"
      ]
    },
    {
      "cell_type": "code",
      "execution_count": 14,
      "metadata": {
        "id": "ylB0dsZXUMFK"
      },
      "outputs": [],
      "source": [
        "#https://pytorch.org/tutorials/beginner/basics/data_tutorial.html\n",
        "# YOUR CODE STARTS HERE (our implementation is about 13 lines)\n",
        "class strings_to_tensors(torchdata.Dataset):\n",
        "    def __init__(self, string_list, length):\n",
        "        self.string_list = string_list\n",
        "        self.fixed_length = length\n",
        "\n",
        "    def __len__(self):\n",
        "        return len(self.string_list)\n",
        "\n",
        "    def __getitem__(self, id):\n",
        "        text = self.string_list[id]\n",
        "        # Convert the text to a tensor\n",
        "        indecies = [ord(char) for char in text]\n",
        "        tensor = torch.tensor(indecies, dtype=torch.long)  # Modify dtype if needed\n",
        "        return tensor\n",
        "# YOUR CODE ENDS HERE"
      ]
    },
    {
      "cell_type": "code",
      "source": [
        "chunk_tensor_list= strings_to_tensors(chunk_list, MAX_LEN)\n"
      ],
      "metadata": {
        "id": "Us6CuKIhJlWz"
      },
      "execution_count": 15,
      "outputs": []
    },
    {
      "cell_type": "code",
      "source": [
        "from sklearn.model_selection import train_test_split\n",
        "train_ratio = 0.9#defined by task\n",
        "train_set, test_set = train_test_split(chunk_tensor_list, train_size = train_ratio, test_size = 1 - train_ratio)"
      ],
      "metadata": {
        "id": "mnNAefgrBsny"
      },
      "execution_count": 16,
      "outputs": []
    },
    {
      "cell_type": "code",
      "source": [
        "#https://pytorch.org/tutorials/beginner/basics/data_tutorial.html\n",
        "BATCH_SIZE = 64\n",
        "train_dataloader = torchdata.DataLoader(train_set, batch_size= BATCH_SIZE, shuffle=True)\n",
        "test_dataloader = torchdata.DataLoader(test_set, batch_size= BATCH_SIZE, shuffle=True)"
      ],
      "metadata": {
        "id": "kaJhb2qhDKBh"
      },
      "execution_count": 17,
      "outputs": []
    },
    {
      "cell_type": "markdown",
      "metadata": {
        "id": "KBvl5yQuUMFK"
      },
      "source": [
        "# Train a Transformer model\n",
        "\n",
        "Import your `TransformerLM` model from `modeling_transormer` file and train it on the data you prepared above.\n",
        "You know the drill: define a model, an optimizer, and a training loop, log everything to wandb.\n",
        "You can also save your model using `TransformerLM.save_pretrained()` method and load it using `TransformerLM.from_pretrained()` method in case you want to.\n",
        "\n",
        "### Tricky part\n",
        "\n",
        "In PyTorch, `F.cross_entropy` expects the logits to be of shape `(batch_size, num_classes)` and the targets to be of shape `(batch_size,)` containing the class indices. In our case, the logits tensor has the shape `(batch_size, seq_len, num_classes)` and the targets are of shape `(batch_size, seq_len)`. We need to reshape the input and the targets to make them compatible with `F.cross_entropy`. You can do it like this:\n",
        "\n",
        "```python\n",
        "bs, seq_len, num_classes = logits.shape\n",
        "logits = logits.reshape(bs * seq_len, num_classes)\n",
        "targets = targets.reshape(bs * seq_len)\n",
        "```\n",
        "\n",
        "or, equivalently, like this:\n",
        "\n",
        "```python\n",
        "logits = logits.view(-1, num_classes)\n",
        "targets = targets.view(-1)\n",
        "```\n",
        "\n",
        "Try monitoring your GPU consumption and max it out. The more efficient your code is, the faster your model will train.\n",
        "During training log your loss and and accuracy. You can only log accuracy every 100 batches or so, because it is a bit slow to compute. You can also log the learning rate.\n",
        "During evlauation you just need to log the perplexity, the loss, and accuracy. Perplexity is just `exp(loss)`.\n",
        "Accuracy is not the most standard metric for language models, but it is very intererpretable and easy to compute. Don't expect it to be high, though.\n",
        "Be mindful how frequenly you evaluate your model. You don't want to evaluate it too often, because it will slow down your training loop.\n",
        "\n",
        "> You can also log the number of batches you process in one second (throughput) as a measure of efficiency. It is not required, but it is a good idea to monitor it.\n",
        "\n",
        "## Coding task 3.5\n",
        "\n",
        "Make a training loop and train your model.\n",
        "\n",
        "### Grading criteria\n",
        "**(5 points + extra points)**\n",
        "\n",
        "* 2 points for trainig loop\n",
        "* 1 point for using the GPU\n",
        "* 1 point for evaluation loop (we recommend to make it into a separate function to make your code more readable)\n",
        "* 1 point for wandb logging of train loss, eval loss, train accuracy, eval accuracy, eval perplexity. You can also log the learning rate, but it is not required.\n",
        "* -1 point if forget to zero your gradients between batches\n",
        "* -1 point if your forget to put your model to evaluation mode during evaluation and back to training mode during training\n",
        "* Extra point for using a learning rate scheduler\n",
        "* Extra point for any other improvements to the training loop\n"
      ]
    },
    {
      "cell_type": "code",
      "source": [
        "!pip install wandb\n",
        "import wandb\n",
        "wandb.login()"
      ],
      "metadata": {
        "colab": {
          "base_uri": "https://localhost:8080/",
          "height": 783
        },
        "id": "MwxYI41K8NbG",
        "outputId": "53cfc566-0c91-4d4e-cffe-3449582991e8"
      },
      "execution_count": 18,
      "outputs": [
        {
          "output_type": "stream",
          "name": "stdout",
          "text": [
            "Collecting wandb\n",
            "  Downloading wandb-0.15.8-py3-none-any.whl (2.1 MB)\n",
            "\u001b[2K     \u001b[90m━━━━━━━━━━━━━━━━━━━━━━━━━━━━━━━━━━━━━━━━\u001b[0m \u001b[32m2.1/2.1 MB\u001b[0m \u001b[31m14.6 MB/s\u001b[0m eta \u001b[36m0:00:00\u001b[0m\n",
            "\u001b[?25hRequirement already satisfied: Click!=8.0.0,>=7.1 in /usr/local/lib/python3.10/dist-packages (from wandb) (8.1.6)\n",
            "Collecting GitPython!=3.1.29,>=1.0.0 (from wandb)\n",
            "  Downloading GitPython-3.1.32-py3-none-any.whl (188 kB)\n",
            "\u001b[2K     \u001b[90m━━━━━━━━━━━━━━━━━━━━━━━━━━━━━━━━━━━━━━\u001b[0m \u001b[32m188.5/188.5 kB\u001b[0m \u001b[31m14.3 MB/s\u001b[0m eta \u001b[36m0:00:00\u001b[0m\n",
            "\u001b[?25hRequirement already satisfied: requests<3,>=2.0.0 in /usr/local/lib/python3.10/dist-packages (from wandb) (2.31.0)\n",
            "Requirement already satisfied: psutil>=5.0.0 in /usr/local/lib/python3.10/dist-packages (from wandb) (5.9.5)\n",
            "Collecting sentry-sdk>=1.0.0 (from wandb)\n",
            "  Downloading sentry_sdk-1.29.2-py2.py3-none-any.whl (215 kB)\n",
            "\u001b[2K     \u001b[90m━━━━━━━━━━━━━━━━━━━━━━━━━━━━━━━━━━━━━━\u001b[0m \u001b[32m215.6/215.6 kB\u001b[0m \u001b[31m14.4 MB/s\u001b[0m eta \u001b[36m0:00:00\u001b[0m\n",
            "\u001b[?25hCollecting docker-pycreds>=0.4.0 (from wandb)\n",
            "  Downloading docker_pycreds-0.4.0-py2.py3-none-any.whl (9.0 kB)\n",
            "Requirement already satisfied: PyYAML in /usr/local/lib/python3.10/dist-packages (from wandb) (6.0.1)\n",
            "Collecting pathtools (from wandb)\n",
            "  Downloading pathtools-0.1.2.tar.gz (11 kB)\n",
            "  Preparing metadata (setup.py) ... \u001b[?25l\u001b[?25hdone\n",
            "Collecting setproctitle (from wandb)\n",
            "  Downloading setproctitle-1.3.2-cp310-cp310-manylinux_2_5_x86_64.manylinux1_x86_64.manylinux_2_17_x86_64.manylinux2014_x86_64.whl (30 kB)\n",
            "Requirement already satisfied: setuptools in /usr/local/lib/python3.10/dist-packages (from wandb) (67.7.2)\n",
            "Requirement already satisfied: appdirs>=1.4.3 in /usr/local/lib/python3.10/dist-packages (from wandb) (1.4.4)\n",
            "Requirement already satisfied: protobuf!=4.21.0,<5,>=3.19.0 in /usr/local/lib/python3.10/dist-packages (from wandb) (3.20.3)\n",
            "Requirement already satisfied: six>=1.4.0 in /usr/local/lib/python3.10/dist-packages (from docker-pycreds>=0.4.0->wandb) (1.16.0)\n",
            "Collecting gitdb<5,>=4.0.1 (from GitPython!=3.1.29,>=1.0.0->wandb)\n",
            "  Downloading gitdb-4.0.10-py3-none-any.whl (62 kB)\n",
            "\u001b[2K     \u001b[90m━━━━━━━━━━━━━━━━━━━━━━━━━━━━━━━━━━━━━━━━\u001b[0m \u001b[32m62.7/62.7 kB\u001b[0m \u001b[31m7.1 MB/s\u001b[0m eta \u001b[36m0:00:00\u001b[0m\n",
            "\u001b[?25hRequirement already satisfied: charset-normalizer<4,>=2 in /usr/local/lib/python3.10/dist-packages (from requests<3,>=2.0.0->wandb) (3.2.0)\n",
            "Requirement already satisfied: idna<4,>=2.5 in /usr/local/lib/python3.10/dist-packages (from requests<3,>=2.0.0->wandb) (3.4)\n",
            "Requirement already satisfied: urllib3<3,>=1.21.1 in /usr/local/lib/python3.10/dist-packages (from requests<3,>=2.0.0->wandb) (1.26.16)\n",
            "Requirement already satisfied: certifi>=2017.4.17 in /usr/local/lib/python3.10/dist-packages (from requests<3,>=2.0.0->wandb) (2023.7.22)\n",
            "Collecting smmap<6,>=3.0.1 (from gitdb<5,>=4.0.1->GitPython!=3.1.29,>=1.0.0->wandb)\n",
            "  Downloading smmap-5.0.0-py3-none-any.whl (24 kB)\n",
            "Building wheels for collected packages: pathtools\n",
            "  Building wheel for pathtools (setup.py) ... \u001b[?25l\u001b[?25hdone\n",
            "  Created wheel for pathtools: filename=pathtools-0.1.2-py3-none-any.whl size=8791 sha256=bcd226f81ddbf22f3dcfd9d98e02dda81628473a468a5b6d6a8e35240ca5412a\n",
            "  Stored in directory: /root/.cache/pip/wheels/e7/f3/22/152153d6eb222ee7a56ff8617d80ee5207207a8c00a7aab794\n",
            "Successfully built pathtools\n",
            "Installing collected packages: pathtools, smmap, setproctitle, sentry-sdk, docker-pycreds, gitdb, GitPython, wandb\n",
            "Successfully installed GitPython-3.1.32 docker-pycreds-0.4.0 gitdb-4.0.10 pathtools-0.1.2 sentry-sdk-1.29.2 setproctitle-1.3.2 smmap-5.0.0 wandb-0.15.8\n"
          ]
        },
        {
          "output_type": "display_data",
          "data": {
            "text/plain": [
              "<IPython.core.display.Javascript object>"
            ],
            "application/javascript": [
              "\n",
              "        window._wandbApiKey = new Promise((resolve, reject) => {\n",
              "            function loadScript(url) {\n",
              "            return new Promise(function(resolve, reject) {\n",
              "                let newScript = document.createElement(\"script\");\n",
              "                newScript.onerror = reject;\n",
              "                newScript.onload = resolve;\n",
              "                document.body.appendChild(newScript);\n",
              "                newScript.src = url;\n",
              "            });\n",
              "            }\n",
              "            loadScript(\"https://cdn.jsdelivr.net/npm/postmate/build/postmate.min.js\").then(() => {\n",
              "            const iframe = document.createElement('iframe')\n",
              "            iframe.style.cssText = \"width:0;height:0;border:none\"\n",
              "            document.body.appendChild(iframe)\n",
              "            const handshake = new Postmate({\n",
              "                container: iframe,\n",
              "                url: 'https://wandb.ai/authorize'\n",
              "            });\n",
              "            const timeout = setTimeout(() => reject(\"Couldn't auto authenticate\"), 5000)\n",
              "            handshake.then(function(child) {\n",
              "                child.on('authorize', data => {\n",
              "                    clearTimeout(timeout)\n",
              "                    resolve(data)\n",
              "                });\n",
              "            });\n",
              "            })\n",
              "        });\n",
              "    "
            ]
          },
          "metadata": {}
        },
        {
          "output_type": "stream",
          "name": "stderr",
          "text": [
            "\u001b[34m\u001b[1mwandb\u001b[0m: Appending key for api.wandb.ai to your netrc file: /root/.netrc\n"
          ]
        },
        {
          "output_type": "execute_result",
          "data": {
            "text/plain": [
              "True"
            ]
          },
          "metadata": {},
          "execution_count": 18
        }
      ]
    },
    {
      "cell_type": "code",
      "execution_count": 42,
      "metadata": {
        "id": "oProU3ngUMFK",
        "colab": {
          "base_uri": "https://localhost:8080/",
          "height": 739,
          "referenced_widgets": [
            "e9b02046216e4a21918b5807c5376f08",
            "51e11549fc9246499a98276ba99dae6b",
            "99641f43de21414a947d674817b4b6e4",
            "aa87525b974c4104b9d967d9be8e7383",
            "8896f4f5153d4d558ded25e5269adf4a",
            "a4af552af15840308aee898ad13e5f14",
            "4efed8c669514151ad925e843f262a5e",
            "2619fff19dab42fdb46292793a4a491a"
          ]
        },
        "outputId": "9bd4973c-47aa-47c9-fbed-845c078d7f99"
      },
      "outputs": [
        {
          "output_type": "display_data",
          "data": {
            "text/plain": [
              "<IPython.core.display.HTML object>"
            ],
            "text/html": [
              "Finishing last run (ID:zjdleg1y) before initializing another..."
            ]
          },
          "metadata": {}
        },
        {
          "output_type": "display_data",
          "data": {
            "text/plain": [
              "<IPython.core.display.HTML object>"
            ],
            "text/html": [
              "Waiting for W&B process to finish... <strong style=\"color:green\">(success).</strong>"
            ]
          },
          "metadata": {}
        },
        {
          "output_type": "display_data",
          "data": {
            "text/plain": [
              "VBox(children=(Label(value='0.001 MB of 0.012 MB uploaded (0.000 MB deduped)\\r'), FloatProgress(value=0.077568…"
            ],
            "application/vnd.jupyter.widget-view+json": {
              "version_major": 2,
              "version_minor": 0,
              "model_id": "e9b02046216e4a21918b5807c5376f08"
            }
          },
          "metadata": {}
        },
        {
          "output_type": "display_data",
          "data": {
            "text/plain": [
              "<IPython.core.display.HTML object>"
            ],
            "text/html": [
              " View run <strong style=\"color:#cdcd00\">dulcet-energy-6</strong> at: <a href='https://wandb.ai/textmachinelab/Casual%20Language%20Model/runs/zjdleg1y' target=\"_blank\">https://wandb.ai/textmachinelab/Casual%20Language%20Model/runs/zjdleg1y</a><br/>Synced 5 W&B file(s), 0 media file(s), 0 artifact file(s) and 0 other file(s)"
            ]
          },
          "metadata": {}
        },
        {
          "output_type": "display_data",
          "data": {
            "text/plain": [
              "<IPython.core.display.HTML object>"
            ],
            "text/html": [
              "Find logs at: <code>./wandb/run-20230810_164316-zjdleg1y/logs</code>"
            ]
          },
          "metadata": {}
        },
        {
          "output_type": "display_data",
          "data": {
            "text/plain": [
              "<IPython.core.display.HTML object>"
            ],
            "text/html": [
              "Successfully finished last run (ID:zjdleg1y). Initializing new run:<br/>"
            ]
          },
          "metadata": {}
        },
        {
          "output_type": "display_data",
          "data": {
            "text/plain": [
              "<IPython.core.display.HTML object>"
            ],
            "text/html": [
              "Tracking run with wandb version 0.15.8"
            ]
          },
          "metadata": {}
        },
        {
          "output_type": "display_data",
          "data": {
            "text/plain": [
              "<IPython.core.display.HTML object>"
            ],
            "text/html": [
              "Run data is saved locally in <code>/content/wandb/run-20230810_165520-2de2o6qa</code>"
            ]
          },
          "metadata": {}
        },
        {
          "output_type": "display_data",
          "data": {
            "text/plain": [
              "<IPython.core.display.HTML object>"
            ],
            "text/html": [
              "Syncing run <strong><a href='https://wandb.ai/textmachinelab/Casual%20Language%20Model/runs/2de2o6qa' target=\"_blank\">leafy-forest-7</a></strong> to <a href='https://wandb.ai/textmachinelab/Casual%20Language%20Model' target=\"_blank\">Weights & Biases</a> (<a href='https://wandb.me/run' target=\"_blank\">docs</a>)<br/>"
            ]
          },
          "metadata": {}
        },
        {
          "output_type": "display_data",
          "data": {
            "text/plain": [
              "<IPython.core.display.HTML object>"
            ],
            "text/html": [
              " View project at <a href='https://wandb.ai/textmachinelab/Casual%20Language%20Model' target=\"_blank\">https://wandb.ai/textmachinelab/Casual%20Language%20Model</a>"
            ]
          },
          "metadata": {}
        },
        {
          "output_type": "display_data",
          "data": {
            "text/plain": [
              "<IPython.core.display.HTML object>"
            ],
            "text/html": [
              " View run at <a href='https://wandb.ai/textmachinelab/Casual%20Language%20Model/runs/2de2o6qa' target=\"_blank\">https://wandb.ai/textmachinelab/Casual%20Language%20Model/runs/2de2o6qa</a>"
            ]
          },
          "metadata": {}
        },
        {
          "output_type": "error",
          "ename": "TypeError",
          "evalue": "ignored",
          "traceback": [
            "\u001b[0;31m---------------------------------------------------------------------------\u001b[0m",
            "\u001b[0;31mTypeError\u001b[0m                                 Traceback (most recent call last)",
            "\u001b[0;32m<ipython-input-42-f21094c9437a>\u001b[0m in \u001b[0;36m<cell line: 27>\u001b[0;34m()\u001b[0m\n\u001b[1;32m     25\u001b[0m \u001b[0;34m\u001b[0m\u001b[0m\n\u001b[1;32m     26\u001b[0m \u001b[0;31m#-------\u001b[0m\u001b[0;34m\u001b[0m\u001b[0;34m\u001b[0m\u001b[0m\n\u001b[0;32m---> 27\u001b[0;31m model_right = TransformerLM(num_layers= num_layers, hidden= hidden, num_heads= num_heads,\n\u001b[0m\u001b[1;32m     28\u001b[0m                       fcn_hidden= fcn_hidden, vocab_size= vocab_size, max_seq_len= MAX_LEN)\n\u001b[1;32m     29\u001b[0m \u001b[0;31m#Training the reversed version of the same model for bidirectional generation in the future\u001b[0m\u001b[0;34m\u001b[0m\u001b[0;34m\u001b[0m\u001b[0m\n",
            "\u001b[0;32m/content/drive/MyDrive/Colab_Notebooks/Transformers_pt_1/transformer_lm/modeling_transformer.py\u001b[0m in \u001b[0;36m__init__\u001b[0;34m(self, num_layers, hidden, num_heads, fcn_hidden, vocab_size, max_seq_len, dropout)\u001b[0m\n\u001b[1;32m    182\u001b[0m         \u001b[0;31m# Output layer should predict the logits for all words in the vocabulary (size of logits = vocab_size)\u001b[0m\u001b[0;34m\u001b[0m\u001b[0;34m\u001b[0m\u001b[0m\n\u001b[1;32m    183\u001b[0m         \u001b[0;31m# YOUR CODE STARTS HERE (our implementation is about 2 lines)\u001b[0m\u001b[0;34m\u001b[0m\u001b[0;34m\u001b[0m\u001b[0m\n\u001b[0;32m--> 184\u001b[0;31m         \u001b[0mself\u001b[0m\u001b[0;34m.\u001b[0m\u001b[0mencoder\u001b[0m \u001b[0;34m=\u001b[0m \u001b[0mTransformerEncoder\u001b[0m\u001b[0;34m(\u001b[0m\u001b[0mnum_layers\u001b[0m\u001b[0;34m,\u001b[0m \u001b[0mhidden\u001b[0m\u001b[0;34m,\u001b[0m \u001b[0mnum_heads\u001b[0m\u001b[0;34m,\u001b[0m \u001b[0mfcn_hidden\u001b[0m\u001b[0;34m,\u001b[0m \u001b[0mvocab_size\u001b[0m\u001b[0;34m,\u001b[0m \u001b[0mmax_seq_len\u001b[0m\u001b[0;34m,\u001b[0m \u001b[0mdropout\u001b[0m\u001b[0;34m)\u001b[0m\u001b[0;34m\u001b[0m\u001b[0;34m\u001b[0m\u001b[0m\n\u001b[0m\u001b[1;32m    185\u001b[0m         \u001b[0mself\u001b[0m\u001b[0;34m.\u001b[0m\u001b[0mtrans_dropout\u001b[0m \u001b[0;34m=\u001b[0m \u001b[0mnn\u001b[0m\u001b[0;34m.\u001b[0m\u001b[0mDropout\u001b[0m\u001b[0;34m(\u001b[0m\u001b[0mdropout\u001b[0m\u001b[0;34m)\u001b[0m\u001b[0;34m\u001b[0m\u001b[0;34m\u001b[0m\u001b[0m\n\u001b[1;32m    186\u001b[0m         \u001b[0mself\u001b[0m\u001b[0;34m.\u001b[0m\u001b[0mlogits\u001b[0m \u001b[0;34m=\u001b[0m \u001b[0mnn\u001b[0m\u001b[0;34m.\u001b[0m\u001b[0mLinear\u001b[0m\u001b[0;34m(\u001b[0m\u001b[0mhidden\u001b[0m\u001b[0;34m,\u001b[0m \u001b[0mvocab_size\u001b[0m\u001b[0;34m)\u001b[0m\u001b[0;34m\u001b[0m\u001b[0;34m\u001b[0m\u001b[0m\n",
            "\u001b[0;32m/content/drive/MyDrive/Colab_Notebooks/Transformers_pt_1/transformer_lm/modeling_transformer.py\u001b[0m in \u001b[0;36m__init__\u001b[0;34m(self, num_layers, hidden, num_heads, fcn_hidden, vocab_size, max_seq_len, dropout, causal)\u001b[0m\n\u001b[1;32m    115\u001b[0m         \u001b[0;31m# You can use for-loop of python list comprehension to create the list of layers\u001b[0m\u001b[0;34m\u001b[0m\u001b[0;34m\u001b[0m\u001b[0m\n\u001b[1;32m    116\u001b[0m         \u001b[0;31m# YOUR CODE STARTS HERE (our implementation is about 6 lines)\u001b[0m\u001b[0;34m\u001b[0m\u001b[0;34m\u001b[0m\u001b[0m\n\u001b[0;32m--> 117\u001b[0;31m         \u001b[0mself\u001b[0m\u001b[0;34m.\u001b[0m\u001b[0membedding\u001b[0m \u001b[0;34m=\u001b[0m \u001b[0mnn\u001b[0m\u001b[0;34m.\u001b[0m\u001b[0mEmbedding\u001b[0m\u001b[0;34m(\u001b[0m\u001b[0mvocab_size\u001b[0m\u001b[0;34m,\u001b[0m \u001b[0mhidden\u001b[0m\u001b[0;34m)\u001b[0m\u001b[0;34m\u001b[0m\u001b[0;34m\u001b[0m\u001b[0m\n\u001b[0m\u001b[1;32m    118\u001b[0m         \u001b[0mself\u001b[0m\u001b[0;34m.\u001b[0m\u001b[0mpositional_embedding\u001b[0m \u001b[0;34m=\u001b[0m \u001b[0mnn\u001b[0m\u001b[0;34m.\u001b[0m\u001b[0mEmbedding\u001b[0m\u001b[0;34m(\u001b[0m\u001b[0mmax_seq_len\u001b[0m\u001b[0;34m,\u001b[0m \u001b[0mhidden\u001b[0m\u001b[0;34m)\u001b[0m\u001b[0;34m\u001b[0m\u001b[0;34m\u001b[0m\u001b[0m\n\u001b[1;32m    119\u001b[0m \u001b[0;34m\u001b[0m\u001b[0m\n",
            "\u001b[0;32m/usr/local/lib/python3.10/dist-packages/torch/nn/modules/sparse.py\u001b[0m in \u001b[0;36m__init__\u001b[0;34m(self, num_embeddings, embedding_dim, padding_idx, max_norm, norm_type, scale_grad_by_freq, sparse, _weight, _freeze, device, dtype)\u001b[0m\n\u001b[1;32m    140\u001b[0m         \u001b[0mself\u001b[0m\u001b[0;34m.\u001b[0m\u001b[0mscale_grad_by_freq\u001b[0m \u001b[0;34m=\u001b[0m \u001b[0mscale_grad_by_freq\u001b[0m\u001b[0;34m\u001b[0m\u001b[0;34m\u001b[0m\u001b[0m\n\u001b[1;32m    141\u001b[0m         \u001b[0;32mif\u001b[0m \u001b[0m_weight\u001b[0m \u001b[0;32mis\u001b[0m \u001b[0;32mNone\u001b[0m\u001b[0;34m:\u001b[0m\u001b[0;34m\u001b[0m\u001b[0;34m\u001b[0m\u001b[0m\n\u001b[0;32m--> 142\u001b[0;31m             self.weight = Parameter(torch.empty((num_embeddings, embedding_dim), **factory_kwargs),\n\u001b[0m\u001b[1;32m    143\u001b[0m                                     requires_grad=not _freeze)\n\u001b[1;32m    144\u001b[0m             \u001b[0mself\u001b[0m\u001b[0;34m.\u001b[0m\u001b[0mreset_parameters\u001b[0m\u001b[0;34m(\u001b[0m\u001b[0;34m)\u001b[0m\u001b[0;34m\u001b[0m\u001b[0;34m\u001b[0m\u001b[0m\n",
            "\u001b[0;31mTypeError\u001b[0m: empty() received an invalid combination of arguments - got (tuple, dtype=NoneType, device=NoneType), but expected one of:\n * (tuple of ints size, *, tuple of names names, torch.memory_format memory_format, torch.dtype dtype, torch.layout layout, torch.device device, bool pin_memory, bool requires_grad)\n * (tuple of ints size, *, torch.memory_format memory_format, Tensor out, torch.dtype dtype, torch.layout layout, torch.device device, bool pin_memory, bool requires_grad)\n"
          ]
        }
      ],
      "source": [
        "#from transformer_lm.modeling_transformer import TransformerLM\n",
        "#already done above\n",
        "# YOUR CODE STARTS HERE\n",
        "num_layers=8\n",
        "hidden=128\n",
        "num_heads=4\n",
        "fcn_hidden=128\n",
        "#vocab_size=128\n",
        "vocab_size=_tokenizer.length\n",
        "num_epochs = 2\n",
        "learning_rate = 0.005\n",
        "loss_function = nn.CrossEntropyLoss()#used for CLM\n",
        "wandb_configuration = {\n",
        "    \"attention layers\": num_layers,\n",
        "    \"Vocab\" : vocab_size,\n",
        "    \"MHA heads\": num_heads,\n",
        "    \"Batch_size\" : BATCH_SIZE,\n",
        "    \"Epochs\" : num_epochs,\n",
        "    \"FCN size\" : fcn_hidden,\n",
        "    \"Hidden\": hidden\n",
        "    }\n",
        "\n",
        "\n",
        "run = wandb.init(project=\"Casual Language Model\", config = wandb_configuration)\n",
        "\n",
        "#-------\n",
        "model_right = TransformerLM(num_layers= num_layers, hidden= hidden, num_heads= num_heads,\n",
        "                      fcn_hidden= fcn_hidden, vocab_size= vocab_size, max_seq_len= MAX_LEN)\n",
        "#Training the reversed version of the same model for bidirectional generation in the future\n",
        "#model_left = TransformerLM(num_layers= num_layers, hidden= hidden, num_heads= num_heads,\n",
        "#                      fcn_hidden= fcn_hidden, vocab_size= vocab_size, max_seq_len= MAX_LEN)\n",
        "\n",
        "optimizer = torch.optim.Adam(model_right.parameters(), lr= learning_rate)\n",
        "global_steps = 0\n",
        "for epoch in range(num_epochs):\n",
        "    for batch in train_dataloader:\n",
        "        global_steps += 1\n",
        "        inputs = batch\n",
        "        optimizer.zero_grad()  # Zero the gradients\n",
        "        outputs = model_right(inputs)  # Forward pass\n",
        "        targets = inputs\n",
        "        for target in targets:\n",
        "            target = torch.tensor([-1], dtype=torch.long)#empty element in the beginnig as '-1'\n",
        "            target = torch.cat((target, target[1:]), dim=0)#slide forward, replacing the first element with space\n",
        "\n",
        "        loss = loss_function(outputs.view(-1, vocab_size), targets.view(-1))  # Calculate loss\n",
        "        wandb.log({\"training loss\": loss}, step= global_steps)\n",
        "        loss.backward()  # Backpropagation\n",
        "        optimizer.step()  # Update weights\n",
        "\n",
        "        #Evaluation on test dataset\n",
        "        if global_steps % 50 == 0:\n",
        "            with torch.no_grad():\n",
        "                model_right.eval()\n",
        "                for test_batch in test_dataloader:\n",
        "                    x = test_batch\n",
        "                    y = x\n",
        "                    for yi in y:\n",
        "                        yi = torch.tensor([-1], dtype=torch.long)#empty element in the beginnig as '-1'\n",
        "                        yi = torch.cat((yi, yi[1:]), dim=0)#slide forward, replacing the first element with space\n",
        "\n",
        "                    outputs = model_right(x)\n",
        "                    loss = loss_function(outputs.view(-1, vocab_size), y.view(-1))\n",
        "                    accuracy = (outputs.argmax(dim=-1) == y).float().mean()\n",
        "                    wandb.log({\"validation loss\": loss},step= global_steps)\n",
        "                    #print(f\"Validation loss: {loss:.4f}, accuracy: {accuracy:.4f}\")\n",
        "                model_right.train()\n",
        "\n",
        "\n",
        "    #print(f\"Epoch [{epoch+1}/{num_epochs}], Loss: {loss.item():.4f}\")\n",
        "\n",
        "# YOUR CODE ENDS HERE"
      ]
    },
    {
      "cell_type": "code",
      "source": [
        "import os\n",
        "folder_name = \"trained6\"\n",
        "folder_path = \"/content/drive/MyDrive/Colab_Notebooks/Transformers_pt_1/\" + folder_name\n",
        "os.makedirs(folder_path, exist_ok=True)\n",
        "model_right.save_pretrained(folder_path)"
      ],
      "metadata": {
        "id": "LTf7hkva4MdZ"
      },
      "execution_count": 20,
      "outputs": []
    },
    {
      "cell_type": "markdown",
      "metadata": {
        "id": "gZOQv3HhUMFK"
      },
      "source": [
        "# Generate text using your model\n",
        "\n",
        "Now it's time to see what this model can do. Implement a generation function.\n",
        "The idea is to start with some prefix text, predict the next character, append it to the prefix, and repeat the process.\n",
        "You can stop generating text when you reach MAX_LEN tokens.\n",
        "\n",
        "Use `torch.no_grad()` context manager to make sure that you don't compute gradients during generation, or it will blow up your GPU memory.\n",
        "\n",
        "## Coding task 3.6\n",
        "\n",
        "Implement a generation function that accepts a prefix text and generates the next tokens up to MAX_LEN.\n",
        "\n",
        "### Grading criteria\n",
        "**(2 points)**\n",
        "\n",
        "* 2 points for generation function\n",
        "* -1 point if you forget to put your model to evaluation mode during generation and back to training mode after generation or if you forget to use `torch.no_grad()` context manager, or if you are not using the GPU."
      ]
    },
    {
      "cell_type": "code",
      "execution_count": 21,
      "metadata": {
        "id": "vSBvOTWPUMFK",
        "colab": {
          "base_uri": "https://localhost:8080/"
        },
        "outputId": "3eb76d23-238b-4d0f-9417-5898d9cdcab3"
      },
      "outputs": [
        {
          "output_type": "execute_result",
          "data": {
            "text/plain": [
              "TransformerLM(\n",
              "  (encoder): TransformerEncoder(\n",
              "    (embedding): Embedding(128, 128)\n",
              "    (positional_embedding): Embedding(128, 128)\n",
              "    (trans_layers): ModuleList(\n",
              "      (0-7): 8 x TransformerEncoderLayer(\n",
              "        (self_attention): MultiHeadSelfAttention(\n",
              "          (k): Linear(in_features=128, out_features=128, bias=True)\n",
              "          (q): Linear(in_features=128, out_features=128, bias=True)\n",
              "          (v): Linear(in_features=128, out_features=128, bias=True)\n",
              "          (mix): Linear(in_features=128, out_features=128, bias=True)\n",
              "          (dropout): Dropout(p=0, inplace=False)\n",
              "        )\n",
              "        (linear_1): Linear(in_features=128, out_features=128, bias=True)\n",
              "        (linear_2): Linear(in_features=128, out_features=128, bias=True)\n",
              "        (norm_1): LayerNorm((128,), eps=1e-05, elementwise_affine=True)\n",
              "        (norm_2): LayerNorm((128,), eps=1e-05, elementwise_affine=True)\n",
              "        (dropout_1): Dropout(p=0.1, inplace=False)\n",
              "        (dropout_2): Dropout(p=0.1, inplace=False)\n",
              "        (relu): ReLU()\n",
              "      )\n",
              "    )\n",
              "  )\n",
              "  (trans_dropout): Dropout(p=0.1, inplace=False)\n",
              "  (logits): Linear(in_features=128, out_features=128, bias=True)\n",
              ")"
            ]
          },
          "metadata": {},
          "execution_count": 21
        }
      ],
      "source": [
        "# YOUR CODE STARTS HERE (our implementation is about 10 lines)\n",
        "folder_name = \"trained6\"\n",
        "folder_path = \"/content/drive/MyDrive/Colab_Notebooks/Transformers_pt_1/\" + folder_name\n",
        "model_right.from_pretrained(folder_path)\n",
        "# YOUR CODE ENDS HERE"
      ]
    },
    {
      "cell_type": "code",
      "source": [
        "def gogopowerrangers(prompt: str, top_k = 3) -> str:\n",
        "    model_right.eval()\n",
        "    with torch.no_grad():\n",
        "        # encode\n",
        "        input = torch.tensor(_tokenizer.encode(prompt), dtype=torch.long).unsqueeze(0)\n",
        "\n",
        "        for _ in range(MAX_LEN - len(prompt)):\n",
        "            outputs = model_right(input)\n",
        "            probabilities = outputs[:, -1, :]\n",
        "            probabilities = torch.nn.functional.softmax(probabilities, dim=-1)\n",
        "            #top_k\n",
        "            next_chars = torch.multinomial(probabilities, num_samples= top_k).squeeze(0)\n",
        "            #print(next_chars.shape)\n",
        "            random_index = torch.randint(0, len(next_chars), (1,))\n",
        "            #print(random_index.shape)\n",
        "            sample_char = next_chars[random_index]\n",
        "            input = torch.cat([input, sample_char.unsqueeze(0)], dim=1)\n",
        "\n",
        "    model_right.train()\n",
        "    return input.squeeze(0).tolist()\n",
        "\n",
        "prompt = 'she goes: they say that sun'\n",
        "result = gogopowerrangers(prompt, 5)\n",
        "print(result)\n",
        "print(_tokenizer.decode(result))\n",
        "\n"
      ],
      "metadata": {
        "colab": {
          "base_uri": "https://localhost:8080/"
        },
        "id": "OVeJQTn8Sj0s",
        "outputId": "0cbe359a-4fcd-43b2-e3d3-2c31075fdacf"
      },
      "execution_count": 50,
      "outputs": [
        {
          "output_type": "stream",
          "name": "stdout",
          "text": [
            "[3, 22, 8, 5, 40, 14, 8, 3, 10, 5, 4, 22, 8, 20, 5, 3, 19, 20, 5, 4, 22, 19, 4, 5, 3, 21, 9, 10, 101, 101, 101, 101, 101, 32, 119, 67, 54, 111, 115, 107, 107, 107, 98, 97, 75, 75, 93, 70, 70, 70, 79, 79, 121, 110, 42, 117, 90, 90, 16, 101, 101, 101, 58, 84, 84, 115, 84, 74, 106, 17, 105, 112, 79, 79, 63, 44, 104, 108, 116, 116, 116, 87, 26, 72, 24, 68, 77, 105, 105, 104, 77, 72, 70, 118, 118, 6, 103, 119, 103, 103, 117, 110, 110, 110, 101, 101, 101, 32, 77, 102, 103, 118, 65, 65, 113, 53, 112, 74, 74, 97, 98, 97, 74, 119, 102, 32, 77, 66]\n",
            "she goes: they say that sun:?qbpKc3O.mC?P?\n"
          ]
        }
      ]
    },
    {
      "cell_type": "markdown",
      "metadata": {
        "id": "XlacaTgUUMFL"
      },
      "source": [
        "# Exploring hyperparameters and understanding Transformers\n",
        "\n",
        "Train at least 10 models with different hyperparameters and compare them using wandb. Write a short report.\n",
        "\n",
        "\n",
        "### Grading criteria\n",
        "**(5 points max + extra points)**\n",
        "\n",
        "* 4 points for training 10+ models. 2 points if 5-9 models are trained.\n",
        "* 1 point for training report that describes what you did and what you learned about the hyperparameters and efficient training.\n",
        "* Extra point for every 10 more models trained (up to 10 extra points). Please be reasonalbe, training a model for 10 seconds does not count, they need to be if not converged, at least trained for a while."
      ]
    }
  ],
  "metadata": {
    "kernelspec": {
      "display_name": "base",
      "language": "python",
      "name": "base"
    },
    "language_info": {
      "codemirror_mode": {
        "name": "ipython",
        "version": 3
      },
      "file_extension": ".py",
      "mimetype": "text/x-python",
      "name": "python",
      "nbconvert_exporter": "python",
      "pygments_lexer": "ipython3",
      "version": "3.8.3"
    },
    "orig_nbformat": 4,
    "colab": {
      "provenance": [],
      "include_colab_link": true
    },
    "widgets": {
      "application/vnd.jupyter.widget-state+json": {
        "e9b02046216e4a21918b5807c5376f08": {
          "model_module": "@jupyter-widgets/controls",
          "model_name": "VBoxModel",
          "model_module_version": "1.5.0",
          "state": {
            "_dom_classes": [],
            "_model_module": "@jupyter-widgets/controls",
            "_model_module_version": "1.5.0",
            "_model_name": "VBoxModel",
            "_view_count": null,
            "_view_module": "@jupyter-widgets/controls",
            "_view_module_version": "1.5.0",
            "_view_name": "VBoxView",
            "box_style": "",
            "children": [
              "IPY_MODEL_51e11549fc9246499a98276ba99dae6b",
              "IPY_MODEL_99641f43de21414a947d674817b4b6e4"
            ],
            "layout": "IPY_MODEL_aa87525b974c4104b9d967d9be8e7383"
          }
        },
        "51e11549fc9246499a98276ba99dae6b": {
          "model_module": "@jupyter-widgets/controls",
          "model_name": "LabelModel",
          "model_module_version": "1.5.0",
          "state": {
            "_dom_classes": [],
            "_model_module": "@jupyter-widgets/controls",
            "_model_module_version": "1.5.0",
            "_model_name": "LabelModel",
            "_view_count": null,
            "_view_module": "@jupyter-widgets/controls",
            "_view_module_version": "1.5.0",
            "_view_name": "LabelView",
            "description": "",
            "description_tooltip": null,
            "layout": "IPY_MODEL_8896f4f5153d4d558ded25e5269adf4a",
            "placeholder": "​",
            "style": "IPY_MODEL_a4af552af15840308aee898ad13e5f14",
            "value": "0.012 MB of 0.012 MB uploaded (0.000 MB deduped)\r"
          }
        },
        "99641f43de21414a947d674817b4b6e4": {
          "model_module": "@jupyter-widgets/controls",
          "model_name": "FloatProgressModel",
          "model_module_version": "1.5.0",
          "state": {
            "_dom_classes": [],
            "_model_module": "@jupyter-widgets/controls",
            "_model_module_version": "1.5.0",
            "_model_name": "FloatProgressModel",
            "_view_count": null,
            "_view_module": "@jupyter-widgets/controls",
            "_view_module_version": "1.5.0",
            "_view_name": "ProgressView",
            "bar_style": "",
            "description": "",
            "description_tooltip": null,
            "layout": "IPY_MODEL_4efed8c669514151ad925e843f262a5e",
            "max": 1,
            "min": 0,
            "orientation": "horizontal",
            "style": "IPY_MODEL_2619fff19dab42fdb46292793a4a491a",
            "value": 1
          }
        },
        "aa87525b974c4104b9d967d9be8e7383": {
          "model_module": "@jupyter-widgets/base",
          "model_name": "LayoutModel",
          "model_module_version": "1.2.0",
          "state": {
            "_model_module": "@jupyter-widgets/base",
            "_model_module_version": "1.2.0",
            "_model_name": "LayoutModel",
            "_view_count": null,
            "_view_module": "@jupyter-widgets/base",
            "_view_module_version": "1.2.0",
            "_view_name": "LayoutView",
            "align_content": null,
            "align_items": null,
            "align_self": null,
            "border": null,
            "bottom": null,
            "display": null,
            "flex": null,
            "flex_flow": null,
            "grid_area": null,
            "grid_auto_columns": null,
            "grid_auto_flow": null,
            "grid_auto_rows": null,
            "grid_column": null,
            "grid_gap": null,
            "grid_row": null,
            "grid_template_areas": null,
            "grid_template_columns": null,
            "grid_template_rows": null,
            "height": null,
            "justify_content": null,
            "justify_items": null,
            "left": null,
            "margin": null,
            "max_height": null,
            "max_width": null,
            "min_height": null,
            "min_width": null,
            "object_fit": null,
            "object_position": null,
            "order": null,
            "overflow": null,
            "overflow_x": null,
            "overflow_y": null,
            "padding": null,
            "right": null,
            "top": null,
            "visibility": null,
            "width": null
          }
        },
        "8896f4f5153d4d558ded25e5269adf4a": {
          "model_module": "@jupyter-widgets/base",
          "model_name": "LayoutModel",
          "model_module_version": "1.2.0",
          "state": {
            "_model_module": "@jupyter-widgets/base",
            "_model_module_version": "1.2.0",
            "_model_name": "LayoutModel",
            "_view_count": null,
            "_view_module": "@jupyter-widgets/base",
            "_view_module_version": "1.2.0",
            "_view_name": "LayoutView",
            "align_content": null,
            "align_items": null,
            "align_self": null,
            "border": null,
            "bottom": null,
            "display": null,
            "flex": null,
            "flex_flow": null,
            "grid_area": null,
            "grid_auto_columns": null,
            "grid_auto_flow": null,
            "grid_auto_rows": null,
            "grid_column": null,
            "grid_gap": null,
            "grid_row": null,
            "grid_template_areas": null,
            "grid_template_columns": null,
            "grid_template_rows": null,
            "height": null,
            "justify_content": null,
            "justify_items": null,
            "left": null,
            "margin": null,
            "max_height": null,
            "max_width": null,
            "min_height": null,
            "min_width": null,
            "object_fit": null,
            "object_position": null,
            "order": null,
            "overflow": null,
            "overflow_x": null,
            "overflow_y": null,
            "padding": null,
            "right": null,
            "top": null,
            "visibility": null,
            "width": null
          }
        },
        "a4af552af15840308aee898ad13e5f14": {
          "model_module": "@jupyter-widgets/controls",
          "model_name": "DescriptionStyleModel",
          "model_module_version": "1.5.0",
          "state": {
            "_model_module": "@jupyter-widgets/controls",
            "_model_module_version": "1.5.0",
            "_model_name": "DescriptionStyleModel",
            "_view_count": null,
            "_view_module": "@jupyter-widgets/base",
            "_view_module_version": "1.2.0",
            "_view_name": "StyleView",
            "description_width": ""
          }
        },
        "4efed8c669514151ad925e843f262a5e": {
          "model_module": "@jupyter-widgets/base",
          "model_name": "LayoutModel",
          "model_module_version": "1.2.0",
          "state": {
            "_model_module": "@jupyter-widgets/base",
            "_model_module_version": "1.2.0",
            "_model_name": "LayoutModel",
            "_view_count": null,
            "_view_module": "@jupyter-widgets/base",
            "_view_module_version": "1.2.0",
            "_view_name": "LayoutView",
            "align_content": null,
            "align_items": null,
            "align_self": null,
            "border": null,
            "bottom": null,
            "display": null,
            "flex": null,
            "flex_flow": null,
            "grid_area": null,
            "grid_auto_columns": null,
            "grid_auto_flow": null,
            "grid_auto_rows": null,
            "grid_column": null,
            "grid_gap": null,
            "grid_row": null,
            "grid_template_areas": null,
            "grid_template_columns": null,
            "grid_template_rows": null,
            "height": null,
            "justify_content": null,
            "justify_items": null,
            "left": null,
            "margin": null,
            "max_height": null,
            "max_width": null,
            "min_height": null,
            "min_width": null,
            "object_fit": null,
            "object_position": null,
            "order": null,
            "overflow": null,
            "overflow_x": null,
            "overflow_y": null,
            "padding": null,
            "right": null,
            "top": null,
            "visibility": null,
            "width": null
          }
        },
        "2619fff19dab42fdb46292793a4a491a": {
          "model_module": "@jupyter-widgets/controls",
          "model_name": "ProgressStyleModel",
          "model_module_version": "1.5.0",
          "state": {
            "_model_module": "@jupyter-widgets/controls",
            "_model_module_version": "1.5.0",
            "_model_name": "ProgressStyleModel",
            "_view_count": null,
            "_view_module": "@jupyter-widgets/base",
            "_view_module_version": "1.2.0",
            "_view_name": "StyleView",
            "bar_color": null,
            "description_width": ""
          }
        }
      }
    }
  },
  "nbformat": 4,
  "nbformat_minor": 0
}